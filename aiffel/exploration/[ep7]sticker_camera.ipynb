{
 "cells": [
  {
   "cell_type": "markdown",
   "metadata": {},
   "source": [
    "# 카메라 스티커 앱을 만들어보자\n",
    "\n",
    "스노우나 스냅챗 등에서 얼굴에 필터를 씌워주는 것처럼 얼굴을 인식하고 특정 객채를 입혀보는 실습을 해보자.\n",
    "\n",
    "- 얼굴 사진을 사용해서\n",
    "- face landmark를 찾아내고\n",
    "- 찾아진 영역에 왕관 스티커를 붙여준다.\n",
    "\n",
    "## Face landmark를 찾아주는 dlib\n",
    "\n"
   ]
  },
  {
   "cell_type": "code",
   "execution_count": 1,
   "metadata": {},
   "outputs": [
    {
     "ename": "ImportError",
     "evalue": "dlopen(/Library/Frameworks/Python.framework/Versions/3.10/lib/python3.10/site-packages/_dlib_pybind11.cpython-310-darwin.so, 0x0002): symbol not found in flat namespace '_png_do_expand_palette_rgb8_neon'",
     "output_type": "error",
     "traceback": [
      "\u001b[0;31m---------------------------------------------------------------------------\u001b[0m",
      "\u001b[0;31mImportError\u001b[0m                               Traceback (most recent call last)",
      "\u001b[1;32m/Users/taehwan/Workspace/project/projects/aiffel/exploration/[ep7]sticker_camera.ipynb 셀 2\u001b[0m in \u001b[0;36m<cell line: 6>\u001b[0;34m()\u001b[0m\n\u001b[1;32m      <a href='vscode-notebook-cell:/Users/taehwan/Workspace/project/projects/aiffel/exploration/%5Bep7%5Dsticker_camera.ipynb#W0sZmlsZQ%3D%3D?line=3'>4</a>\u001b[0m \u001b[39mimport\u001b[39;00m \u001b[39mmatplotlib\u001b[39;00m\u001b[39m.\u001b[39;00m\u001b[39mpyplot\u001b[39;00m \u001b[39mas\u001b[39;00m \u001b[39mplt\u001b[39;00m \u001b[39m# 다양한 데이터를 많은 방법으로 도식화 할 수 있도록 하는 라이브러리\u001b[39;00m\n\u001b[1;32m      <a href='vscode-notebook-cell:/Users/taehwan/Workspace/project/projects/aiffel/exploration/%5Bep7%5Dsticker_camera.ipynb#W0sZmlsZQ%3D%3D?line=4'>5</a>\u001b[0m \u001b[39mimport\u001b[39;00m \u001b[39mnumpy\u001b[39;00m \u001b[39mas\u001b[39;00m \u001b[39mnp\u001b[39;00m \u001b[39m# 다차원 배열을 쉽게 처리하고 효율적으로 사용할 수 있도록 하는 라이브러리\u001b[39;00m\n\u001b[0;32m----> <a href='vscode-notebook-cell:/Users/taehwan/Workspace/project/projects/aiffel/exploration/%5Bep7%5Dsticker_camera.ipynb#W0sZmlsZQ%3D%3D?line=5'>6</a>\u001b[0m \u001b[39mimport\u001b[39;00m \u001b[39mdlib\u001b[39;00m \u001b[39m# 이미지 처리 및 기계 학습, 얼굴인식 등을 할 수 있는 c++ 로 개발된 고성능의 라이브러리 \u001b[39;00m\n\u001b[1;32m      <a href='vscode-notebook-cell:/Users/taehwan/Workspace/project/projects/aiffel/exploration/%5Bep7%5Dsticker_camera.ipynb#W0sZmlsZQ%3D%3D?line=6'>7</a>\u001b[0m \u001b[39mprint\u001b[39m(\u001b[39m\"\u001b[39m\u001b[39m🌫🛸\u001b[39m\u001b[39m\"\u001b[39m)\n",
      "File \u001b[0;32m/Library/Frameworks/Python.framework/Versions/3.10/lib/python3.10/site-packages/dlib/__init__.py:19\u001b[0m, in \u001b[0;36m<module>\u001b[0;34m\u001b[0m\n\u001b[1;32m     16\u001b[0m     add_lib_to_dll_path(\u001b[39m'\u001b[39m\u001b[39m'\u001b[39m)\n\u001b[1;32m     17\u001b[0m     add_lib_to_dll_path(\u001b[39m'\u001b[39m\u001b[39mCUDA_CUDART_LIBRARY-NOTFOUND\u001b[39m\u001b[39m'\u001b[39m)\n\u001b[0;32m---> 19\u001b[0m \u001b[39mfrom\u001b[39;00m \u001b[39m_dlib_pybind11\u001b[39;00m \u001b[39mimport\u001b[39;00m \u001b[39m*\u001b[39m\n\u001b[1;32m     20\u001b[0m \u001b[39mfrom\u001b[39;00m \u001b[39m_dlib_pybind11\u001b[39;00m \u001b[39mimport\u001b[39;00m __version__, __time_compiled__\n",
      "\u001b[0;31mImportError\u001b[0m: dlopen(/Library/Frameworks/Python.framework/Versions/3.10/lib/python3.10/site-packages/_dlib_pybind11.cpython-310-darwin.so, 0x0002): symbol not found in flat namespace '_png_do_expand_palette_rgb8_neon'"
     ]
    }
   ],
   "source": [
    "# 필요한 패키지 import 하기\n",
    "import os # 환경 변수나 디렉터리, 파일 등의 OS 자원을 제어할 수 있게 해주는 모듈\n",
    "import cv2 # OpenCV라이브러리 → 컴퓨터 비전 관련 프로그래밍을 쉽게 할 수 있도록 도와주는 라이브러리\n",
    "import matplotlib.pyplot as plt # 다양한 데이터를 많은 방법으로 도식화 할 수 있도록 하는 라이브러리\n",
    "import numpy as np # 다차원 배열을 쉽게 처리하고 효율적으로 사용할 수 있도록 하는 라이브러리\n",
    "import dlib # 이미지 처리 및 기계 학습, 얼굴인식 등을 할 수 있는 c++ 로 개발된 고성능의 라이브러리 \n",
    "print(\"🌫🛸\")"
   ]
  },
  {
   "cell_type": "markdown",
   "metadata": {},
   "source": []
  }
 ],
 "metadata": {
  "kernelspec": {
   "display_name": "Python 3.10.7 64-bit",
   "language": "python",
   "name": "python3"
  },
  "language_info": {
   "codemirror_mode": {
    "name": "ipython",
    "version": 3
   },
   "file_extension": ".py",
   "mimetype": "text/x-python",
   "name": "python",
   "nbconvert_exporter": "python",
   "pygments_lexer": "ipython3",
   "version": "3.10.7"
  },
  "orig_nbformat": 4,
  "vscode": {
   "interpreter": {
    "hash": "aee8b7b246df8f9039afb4144a1f6fd8d2ca17a180786b69acc140d282b71a49"
   }
  }
 },
 "nbformat": 4,
 "nbformat_minor": 2
}
